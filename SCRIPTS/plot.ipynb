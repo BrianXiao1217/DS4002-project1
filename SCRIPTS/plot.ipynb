{
  "cells": [
    {
      "cell_type": "code",
      "execution_count": 1,
      "metadata": {},
      "outputs": [],
      "source": [
        "import json\n",
        "import sys\n",
        "import pandas as pd \n",
        "\n",
        "import matplotlib.pyplot as plt\n",
        "import seaborn as sns\n",
        "\n",
        "df_posts = pd.read_csv(\"../DATA/cleaned_posts.csv\")\n",
        "df_comments = pd.read_csv(\"../DATA/cleaned_comments.csv\")"
      ]
    },
    {
      "cell_type": "code",
      "execution_count": 2,
      "metadata": {},
      "outputs": [],
      "source": [
        "df_posts['text'] = df_posts['text'].astype(str)\n",
        "df_comments['text'] = df_comments['text'].astype(str)"
      ]
    },
    {
      "cell_type": "code",
      "execution_count": 3,
      "metadata": {},
      "outputs": [
        {
          "name": "stderr",
          "output_type": "stream",
          "text": [
            "[nltk_data] Downloading package vader_lexicon to\n",
            "[nltk_data]     C:\\Users\\brian\\AppData\\Roaming\\nltk_data...\n",
            "[nltk_data]   Package vader_lexicon is already up-to-date!\n"
          ]
        },
        {
          "data": {
            "text/plain": [
              "True"
            ]
          },
          "execution_count": 3,
          "metadata": {},
          "output_type": "execute_result"
        }
      ],
      "source": [
        "from nltk.sentiment import SentimentIntensityAnalyzer\n",
        "import nltk\n",
        "nltk.download('vader_lexicon')"
      ]
    },
    {
      "cell_type": "code",
      "execution_count": 5,
      "metadata": {},
      "outputs": [],
      "source": [
        "def add_sentiment_scores(df):\n",
        "    # Initialize VADER SentimentIntensityAnalyzer\n",
        "    sia = SentimentIntensityAnalyzer()\n",
        "\n",
        "    df['text'] = df['text'].astype(str).str.strip()\n",
        "\n",
        "    # Calculate sentiment scores\n",
        "    df['compound_sentiment_score'] = df['text'].apply(lambda x: sia.polarity_scores(x)['compound'])\n",
        "    df['positive_sentiment_score'] = df['text'].apply(lambda x: sia.polarity_scores(x)['pos'])\n",
        "    df['negative_sentiment_score'] = df['text'].apply(lambda x: sia.polarity_scores(x)['neg'])\n",
        "    df['neutral_sentiment_score'] = df['text'].apply(lambda x: sia.polarity_scores(x)['neu'])\n",
        "    return df\n",
        "\n",
        "posts_scored = add_sentiment_scores(df_posts)\n",
        "comments_scored = add_sentiment_scores(df_comments)"
      ]
    },
    {
      "cell_type": "code",
      "execution_count": 6,
      "metadata": {},
      "outputs": [
        {
          "data": {
            "text/html": [
              "<div>\n",
              "<style scoped>\n",
              "    .dataframe tbody tr th:only-of-type {\n",
              "        vertical-align: middle;\n",
              "    }\n",
              "\n",
              "    .dataframe tbody tr th {\n",
              "        vertical-align: top;\n",
              "    }\n",
              "\n",
              "    .dataframe thead th {\n",
              "        text-align: right;\n",
              "    }\n",
              "</style>\n",
              "<table border=\"1\" class=\"dataframe\">\n",
              "  <thead>\n",
              "    <tr style=\"text-align: right;\">\n",
              "      <th></th>\n",
              "      <th>created_utc</th>\n",
              "      <th>ups</th>\n",
              "      <th>compound_sentiment_score</th>\n",
              "      <th>positive_sentiment_score</th>\n",
              "      <th>negative_sentiment_score</th>\n",
              "      <th>neutral_sentiment_score</th>\n",
              "    </tr>\n",
              "  </thead>\n",
              "  <tbody>\n",
              "    <tr>\n",
              "      <th>count</th>\n",
              "      <td>6.146000e+03</td>\n",
              "      <td>6146.000000</td>\n",
              "      <td>6146.000000</td>\n",
              "      <td>6146.000000</td>\n",
              "      <td>6146.000000</td>\n",
              "      <td>6146.000000</td>\n",
              "    </tr>\n",
              "    <tr>\n",
              "      <th>mean</th>\n",
              "      <td>1.721519e+09</td>\n",
              "      <td>66.700944</td>\n",
              "      <td>0.005217</td>\n",
              "      <td>0.094978</td>\n",
              "      <td>0.090229</td>\n",
              "      <td>0.813162</td>\n",
              "    </tr>\n",
              "    <tr>\n",
              "      <th>std</th>\n",
              "      <td>3.388301e+05</td>\n",
              "      <td>617.858045</td>\n",
              "      <td>0.405841</td>\n",
              "      <td>0.156426</td>\n",
              "      <td>0.149212</td>\n",
              "      <td>0.199536</td>\n",
              "    </tr>\n",
              "    <tr>\n",
              "      <th>min</th>\n",
              "      <td>1.720915e+09</td>\n",
              "      <td>0.000000</td>\n",
              "      <td>-0.997600</td>\n",
              "      <td>0.000000</td>\n",
              "      <td>0.000000</td>\n",
              "      <td>0.000000</td>\n",
              "    </tr>\n",
              "    <tr>\n",
              "      <th>25%</th>\n",
              "      <td>1.721233e+09</td>\n",
              "      <td>1.000000</td>\n",
              "      <td>-0.226300</td>\n",
              "      <td>0.000000</td>\n",
              "      <td>0.000000</td>\n",
              "      <td>0.690000</td>\n",
              "    </tr>\n",
              "    <tr>\n",
              "      <th>50%</th>\n",
              "      <td>1.721586e+09</td>\n",
              "      <td>1.000000</td>\n",
              "      <td>0.000000</td>\n",
              "      <td>0.000000</td>\n",
              "      <td>0.000000</td>\n",
              "      <td>0.833000</td>\n",
              "    </tr>\n",
              "    <tr>\n",
              "      <th>75%</th>\n",
              "      <td>1.721779e+09</td>\n",
              "      <td>1.000000</td>\n",
              "      <td>0.273200</td>\n",
              "      <td>0.161750</td>\n",
              "      <td>0.162000</td>\n",
              "      <td>1.000000</td>\n",
              "    </tr>\n",
              "    <tr>\n",
              "      <th>max</th>\n",
              "      <td>1.722125e+09</td>\n",
              "      <td>37663.000000</td>\n",
              "      <td>0.999500</td>\n",
              "      <td>1.000000</td>\n",
              "      <td>1.000000</td>\n",
              "      <td>1.000000</td>\n",
              "    </tr>\n",
              "  </tbody>\n",
              "</table>\n",
              "</div>"
            ],
            "text/plain": [
              "        created_utc           ups  compound_sentiment_score  \\\n",
              "count  6.146000e+03   6146.000000               6146.000000   \n",
              "mean   1.721519e+09     66.700944                  0.005217   \n",
              "std    3.388301e+05    617.858045                  0.405841   \n",
              "min    1.720915e+09      0.000000                 -0.997600   \n",
              "25%    1.721233e+09      1.000000                 -0.226300   \n",
              "50%    1.721586e+09      1.000000                  0.000000   \n",
              "75%    1.721779e+09      1.000000                  0.273200   \n",
              "max    1.722125e+09  37663.000000                  0.999500   \n",
              "\n",
              "       positive_sentiment_score  negative_sentiment_score  \\\n",
              "count               6146.000000               6146.000000   \n",
              "mean                   0.094978                  0.090229   \n",
              "std                    0.156426                  0.149212   \n",
              "min                    0.000000                  0.000000   \n",
              "25%                    0.000000                  0.000000   \n",
              "50%                    0.000000                  0.000000   \n",
              "75%                    0.161750                  0.162000   \n",
              "max                    1.000000                  1.000000   \n",
              "\n",
              "       neutral_sentiment_score  \n",
              "count              6146.000000  \n",
              "mean                  0.813162  \n",
              "std                   0.199536  \n",
              "min                   0.000000  \n",
              "25%                   0.690000  \n",
              "50%                   0.833000  \n",
              "75%                   1.000000  \n",
              "max                   1.000000  "
            ]
          },
          "execution_count": 6,
          "metadata": {},
          "output_type": "execute_result"
        }
      ],
      "source": [
        "posts_scored.describe()"
      ]
    },
    {
      "cell_type": "code",
      "execution_count": null,
      "metadata": {},
      "outputs": [],
      "source": []
    },
    {
      "cell_type": "code",
      "execution_count": 7,
      "metadata": {},
      "outputs": [
        {
          "name": "stdout",
          "output_type": "stream",
          "text": [
            "      compound_sentiment_score  positive_sentiment_score  \\\n",
            "3                          0.0                       0.0   \n",
            "4                          0.0                       0.0   \n",
            "5                          0.0                       0.0   \n",
            "6                          0.0                       0.0   \n",
            "7                          0.0                       0.0   \n",
            "...                        ...                       ...   \n",
            "6137                       0.0                       0.0   \n",
            "6140                       0.0                       0.0   \n",
            "6143                       0.0                       0.0   \n",
            "6144                       0.0                       0.0   \n",
            "6145                       0.0                       0.0   \n",
            "\n",
            "      negative_sentiment_score  neutral_sentiment_score  \n",
            "3                          0.0                      1.0  \n",
            "4                          0.0                      1.0  \n",
            "5                          0.0                      1.0  \n",
            "6                          0.0                      1.0  \n",
            "7                          0.0                      1.0  \n",
            "...                        ...                      ...  \n",
            "6137                       0.0                      1.0  \n",
            "6140                       0.0                      1.0  \n",
            "6143                       0.0                      1.0  \n",
            "6144                       0.0                      1.0  \n",
            "6145                       0.0                      1.0  \n",
            "\n",
            "[2497 rows x 4 columns]\n"
          ]
        }
      ],
      "source": [
        "filtered = posts_scored[posts_scored['compound_sentiment_score'] == 0.0]\n",
        "print(filtered[['compound_sentiment_score', 'positive_sentiment_score', 'negative_sentiment_score', 'neutral_sentiment_score']])"
      ]
    },
    {
      "cell_type": "code",
      "execution_count": 8,
      "metadata": {},
      "outputs": [],
      "source": [
        "def plot_average_sentiment(posts_df):\n",
        "    # Calculate the average sentiment score per subreddit\n",
        "    average_sentiment = posts_df.groupby('subreddit')['sentiment_score'].mean().reset_index()\n",
        "\n",
        "    ordered_subreddits = ['democrats', 'Republican', 'PoliticalDiscussion']\n",
        "\n",
        "    # Create a bar plot for average sentiment\n",
        "    plt.figure(figsize=(10, 6))\n",
        "    sns.barplot(x='subreddit', y='sentiment_score', data=average_sentiment, palette='coolwarm', order=ordered_subreddits)\n",
        "    \n",
        "    # Add titles and labels\n",
        "    #plt.title('Average Sentiment Score Of Posts per Subreddit', fontsize=16)\n",
        "    plt.title('Average Sentiment Score Of Comments per Subreddit', fontsize=16)\n",
        "\n",
        "    plt.xlabel('Subreddit', fontsize=14)\n",
        "    plt.ylabel('Average Sentiment Score', fontsize=14)\n",
        "    plt.xticks(rotation=45)\n",
        "    \n",
        "    # Show the plot\n",
        "    plt.tight_layout()\n",
        "    plt.show()"
      ]
    },
    {
      "cell_type": "code",
      "execution_count": 43,
      "metadata": {},
      "outputs": [
        {
          "name": "stderr",
          "output_type": "stream",
          "text": [
            "C:\\Users\\brian\\AppData\\Local\\Temp\\ipykernel_17716\\3557865067.py:9: FutureWarning: \n",
            "\n",
            "Passing `palette` without assigning `hue` is deprecated and will be removed in v0.14.0. Assign the `x` variable to `hue` and set `legend=False` for the same effect.\n",
            "\n",
            "  sns.barplot(x='subreddit', y='sentiment_score', data=average_sentiment, palette='coolwarm', order=ordered_subreddits)\n"
          ]
        },
        {
          "data": {
            "image/png": "[encoded data removed]",
            "text/plain": [
              "<Figure size 1000x600 with 1 Axes>"
            ]
          },
          "metadata": {},
          "output_type": "display_data"
        }
      ],
      "source": [
        "#plot_average_sentiment(all_post)\n",
        "plot_average_sentiment(posts_scored)"
      ]
    }
  ],
  "metadata": {
    "colab": {
      "provenance": []
    },
    "kernelspec": {
      "display_name": "Python 3",
      "name": "python3"
    },
    "language_info": {
      "codemirror_mode": {
        "name": "ipython",
        "version": 3
      },
      "file_extension": ".py",
      "mimetype": "text/x-python",
      "name": "python",
      "nbconvert_exporter": "python",
      "pygments_lexer": "ipython3",
      "version": "3.10.7"
    }
  },
  "nbformat": 4,
  "nbformat_minor": 0
}
